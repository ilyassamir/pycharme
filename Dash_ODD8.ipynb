{
 "cells": [
  {
   "cell_type": "code",
   "execution_count": null,
   "id": "a75f9c7b-a752-45b5-91d9-101b3ac17b62",
   "metadata": {},
   "outputs": [],
   "source": [
    "!pip install dash plotly pandas\n"
   ]
  },
  {
   "cell_type": "code",
   "execution_count": 43,
   "id": "5e31b0c5-4b09-4ebb-bce5-cfa441001d81",
   "metadata": {},
   "outputs": [],
   "source": [
    "import pandas as pd\n",
    "data = {\n",
    "    \"Année\" : [2010 ,2014 ,2015 ,2016 ,2017 ,2018 ,2019 ,2020 ,2021 ,2022 ,2023],\n",
    "    \"PIB par habitant (%)\" : [2.5,1.5,3.3,-0.5,4.0,2.0,1.8,-8.1,7.1,0.5,2.4],\n",
    "    \"PIB par emploi (%)\" : [2.6,4.0,4.0,0.9,3.7,2.0,1.3,-3.4,5.7,1.5,None],\n",
    "    \"Taux de chomage (%)\" : [9.1 , 9.9,9.7,9.9,10.2,9.5,9.2,11.9,12.3,11.8,13.0],\n",
    "    \"Jeunes NEET (%)\" : [None, 28.9,27.9,27.5,29.3,27.5,26.5,26.6,26.0,25.2,25.6],\n",
    "    \"Emploi informel (%)\" : [None, 67.6,None,None,None,None,None,None,None,None,None],\n",
    "    \"Banques/100K adultes\" : [20.8,24.4,24.9,25.1,25.1,25.2,24.9,24.4,22.4,21.5,20.9],\n",
    "    \"DAB/100k adultes\": [19.7, 25.7, 26.5, 27.3, 27.6, 28.2, 29.0, 29.0, 29.4, 29.8, 29.6],\n",
    "    \"PIB du tourisme (%)\": [None, 6.7, 6.5, 6.6, 6.8, 6.9, 7.1, None, None, None, None],\n",
    "   # \"Valeur cible 2030\": [None, None, None, None, None, None, None, None, None, None, 3.9],\n",
    "}\n",
    "\n",
    "df = pd.DataFrame(data)\n",
    "\n"
   ]
  },
  {
   "cell_type": "code",
   "execution_count": 45,
   "id": "13206aa4-a84f-4bd1-8eb2-bf2bfde11d7a",
   "metadata": {},
   "outputs": [
    {
     "data": {
      "text/html": [
       "\n",
       "        <iframe\n",
       "            width=\"100%\"\n",
       "            height=\"650\"\n",
       "            src=\"http://127.0.0.1:8050/\"\n",
       "            frameborder=\"0\"\n",
       "            allowfullscreen\n",
       "            \n",
       "        ></iframe>\n",
       "        "
      ],
      "text/plain": [
       "<IPython.lib.display.IFrame at 0x2b86534a450>"
      ]
     },
     "metadata": {},
     "output_type": "display_data"
    }
   ],
   "source": [
    "import dash\n",
    "from dash import dcc, html\n",
    "from dash.dependencies import Input, Output\n",
    "import plotly.express as px\n",
    "import plotly.graph_objects as go\n",
    "import pandas as pd\n",
    "\n",
    "# Initialiser l'application Dash\n",
    "app = dash.Dash(__name__)\n",
    "\n",
    "# Mise en page du tableau de bord\n",
    "app.layout = html.Div([\n",
    "    html.H1(\"Tableau de bord ODD 8\", style={'textAlign': 'center', 'color': '#2c3e50'}),\n",
    "    \n",
    "    html.Label(\"Sélectionnez un indicateur :\", style={'marginTop': '10px'}),\n",
    "    dcc.Dropdown(\n",
    "        id='indic-dropdown',\n",
    "        options=[{'label': col, 'value': col} for col in df.columns[1:]],\n",
    "        value=\"Taux de chômage (%)\",\n",
    "        clearable=False,\n",
    "        style={'width': '50%', 'marginBottom': '20px'}\n",
    "    ),\n",
    "    \n",
    "    dcc.Graph(id='line-chart'),\n",
    "    \n",
    "    html.Label(\"Filtrer par année :\"),\n",
    "    dcc.RangeSlider(\n",
    "        id='year-slider',\n",
    "        min=df[\"Année\"].min(),\n",
    "        max=df[\"Année\"].max(),\n",
    "        step=1,\n",
    "        marks={i: str(i) for i in range(df[\"Année\"].min(), df[\"Année\"].max() + 1, 2)},\n",
    "        value=[df[\"Année\"].min(), df[\"Année\"].max()]\n",
    "    ),\n",
    "    \n",
    "    dcc.Graph(id='table-data')\n",
    "])\n",
    "\n",
    "# Callback pour mettre à jour le graphique\n",
    "@app.callback(\n",
    "    Output('line-chart', 'figure'),\n",
    "    [Input('indic-dropdown', 'value')]\n",
    ")\n",
    "def update_chart(selected_indicator):\n",
    "    fig = px.line(df, x=\"Année\", y=selected_indicator, markers=True, title=f\"Évolution de {selected_indicator}\")\n",
    "    fig.update_traces(line=dict(color='#3498db', width=2), marker=dict(size=8))\n",
    "    fig.update_layout(template=\"plotly_white\", transition_duration=500)\n",
    "    return fig\n",
    "\n",
    "# Callback pour mettre à jour le tableau\n",
    "@app.callback(\n",
    "    Output('table-data', 'figure'),\n",
    "    [Input('year-slider', 'value')]\n",
    ")\n",
    "def update_table(selected_years):\n",
    "    filtered_df = df[(df[\"Année\"] >= selected_years[0]) & (df[\"Année\"] <= selected_years[1])]\n",
    "    fig = go.Figure(data=[go.Table(\n",
    "        header=dict(values=list(filtered_df.columns), fill_color='#3498db', align='left', font=dict(color='white')),\n",
    "        cells=dict(values=[filtered_df[col] for col in filtered_df.columns], fill_color='lavender', align='left')\n",
    "    )])\n",
    "    return fig\n",
    "\n",
    "# Exécution locale\n",
    "if __name__ == '__main__':\n",
    "    app.run_server(debug=True)\n"
   ]
  },
  {
   "cell_type": "code",
   "execution_count": null,
   "id": "275bc6fc-2054-4290-bd19-f2dd90e622a3",
   "metadata": {},
   "outputs": [],
   "source": []
  }
 ],
 "metadata": {
  "kernelspec": {
   "display_name": "Python 3 (ipykernel)",
   "language": "python",
   "name": "python3"
  },
  "language_info": {
   "codemirror_mode": {
    "name": "ipython",
    "version": 3
   },
   "file_extension": ".py",
   "mimetype": "text/x-python",
   "name": "python",
   "nbconvert_exporter": "python",
   "pygments_lexer": "ipython3",
   "version": "3.12.7"
  }
 },
 "nbformat": 4,
 "nbformat_minor": 5
}
