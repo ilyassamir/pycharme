{
 "cells": [
  {
   "cell_type": "markdown",
   "id": "7a37d82a",
   "metadata": {},
   "source": [
    "# Numpy"
   ]
  },
  {
   "cell_type": "code",
   "execution_count": 43,
   "id": "ff1354ea",
   "metadata": {},
   "outputs": [
    {
     "data": {
      "text/plain": [
       "(array([7, 8, 9]), (3,), 3, numpy.ndarray)"
      ]
     },
     "execution_count": 43,
     "metadata": {},
     "output_type": "execute_result"
    }
   ],
   "source": [
    "import numpy as np\n",
    "A =np.array([7,8,9])\n",
    "A , A.shape , A.size , type(A)\n"
   ]
  },
  {
   "cell_type": "code",
   "execution_count": 20,
   "id": "f999ed2a",
   "metadata": {},
   "outputs": [
    {
     "data": {
      "text/plain": [
       "((3, 1),\n",
       " array([[1],\n",
       "        [2],\n",
       "        [3]]))"
      ]
     },
     "execution_count": 20,
     "metadata": {},
     "output_type": "execute_result"
    }
   ],
   "source": [
    "B=A.reshape((3,1))\n",
    "B.shape ,B\n"
   ]
  },
  {
   "cell_type": "code",
   "execution_count": 27,
   "id": "1e5c808a",
   "metadata": {},
   "outputs": [
    {
     "data": {
      "text/plain": [
       "((3,), numpy.ndarray)"
      ]
     },
     "execution_count": 27,
     "metadata": {},
     "output_type": "execute_result"
    }
   ],
   "source": [
    "e=B.squeeze()\n",
    "e.shape,type(e)"
   ]
  },
  {
   "cell_type": "code",
   "execution_count": 15,
   "id": "f76cfa15",
   "metadata": {},
   "outputs": [
    {
     "data": {
      "text/plain": [
       "(array([[1, 2, 3],\n",
       "        [1, 2, 3],\n",
       "        [4, 5, 6]]),\n",
       " (3, 3))"
      ]
     },
     "execution_count": 15,
     "metadata": {},
     "output_type": "execute_result"
    }
   ],
   "source": [
    "c =np.array([[1,2,3],[1,2,3],[4,5,6]])\n",
    "c,c.shape"
   ]
  },
  {
   "cell_type": "code",
   "execution_count": 64,
   "id": "a7a6f33c",
   "metadata": {},
   "outputs": [
    {
     "data": {
      "text/plain": [
       "((3, 1), (3,))"
      ]
     },
     "execution_count": 64,
     "metadata": {},
     "output_type": "execute_result"
    }
   ],
   "source": [
    "j = c[:,0] # \n",
    "i = c[:,:1] \n",
    "i.shape , j.shape"
   ]
  },
  {
   "cell_type": "code",
   "execution_count": 72,
   "id": "2eea4431",
   "metadata": {},
   "outputs": [
    {
     "data": {
      "text/plain": [
       "(array([4, 5, 6]),\n",
       " array([[1, 2],\n",
       "        [1, 2]]),\n",
       " array([[2, 3],\n",
       "        [2, 3],\n",
       "        [5, 6]]))"
      ]
     },
     "execution_count": 72,
     "metadata": {},
     "output_type": "execute_result"
    }
   ],
   "source": [
    "c[2] , c[:2,:2] , c[:,-2:]"
   ]
  },
  {
   "cell_type": "markdown",
   "id": "1f88923d",
   "metadata": {},
   "source": [
    "Slicing"
   ]
  },
  {
   "cell_type": "code",
   "execution_count": 78,
   "id": "a0ce1672",
   "metadata": {},
   "outputs": [
    {
     "data": {
      "text/plain": [
       "array([[20,  8, 20],\n",
       "       [ 8,  8,  3],\n",
       "       [20,  5, 20]])"
      ]
     },
     "execution_count": 78,
     "metadata": {},
     "output_type": "execute_result"
    }
   ],
   "source": [
    "c[:2,:2] = 8\n",
    "c[::2 ,::2] =20\n",
    "c"
   ]
  },
  {
   "cell_type": "markdown",
   "id": "5a4ca5d6",
   "metadata": {},
   "source": [
    "boolean indexing "
   ]
  },
  {
   "cell_type": "code",
   "execution_count": 79,
   "id": "a7ee69e7",
   "metadata": {},
   "outputs": [
    {
     "data": {
      "text/plain": [
       "array([[False, False, False],\n",
       "       [False, False,  True],\n",
       "       [False, False, False]])"
      ]
     },
     "execution_count": 79,
     "metadata": {},
     "output_type": "execute_result"
    }
   ],
   "source": [
    "c<5"
   ]
  },
  {
   "cell_type": "code",
   "execution_count": 89,
   "id": "8b6c3414",
   "metadata": {},
   "outputs": [
    {
     "data": {
      "text/plain": [
       "(array([[20,  8],\n",
       "        [ 8,  8],\n",
       "        [20,  5]]),\n",
       " array([[20,  8, 20],\n",
       "        [ 8,  8, 10],\n",
       "        [20,  5, 20]]))"
      ]
     },
     "execution_count": 89,
     "metadata": {},
     "output_type": "execute_result"
    }
   ],
   "source": [
    "c[(c<5) ] = 10\n",
    "c[:,:2] , c"
   ]
  },
  {
   "cell_type": "code",
   "execution_count": 88,
   "id": "e505f065",
   "metadata": {},
   "outputs": [
    {
     "data": {
      "text/plain": [
       "((3, 3),\n",
       " array([[ 7, 20,  8],\n",
       "        [ 8,  8,  8],\n",
       "        [ 9, 20,  5]]))"
      ]
     },
     "execution_count": 88,
     "metadata": {},
     "output_type": "execute_result"
    }
   ],
   "source": [
    "D = np.concatenate((A.reshape((3,1)),c[:,:2]),axis=1)\n",
    "D.shape , D"
   ]
  },
  {
   "cell_type": "code",
   "execution_count": 92,
   "id": "3642d3b0",
   "metadata": {},
   "outputs": [
    {
     "data": {
      "text/plain": [
       "array([[ 6,  6,  6],\n",
       "       [ 6,  6,  6],\n",
       "       [ 6, 20,  6]])"
      ]
     },
     "execution_count": 92,
     "metadata": {},
     "output_type": "execute_result"
    }
   ],
   "source": [
    "D[c>5] = 6\n",
    "D"
   ]
  },
  {
   "cell_type": "code",
   "execution_count": 19,
   "id": "8be0a0c0",
   "metadata": {},
   "outputs": [
    {
     "data": {
      "text/plain": [
       "array([1, 1, 2, 3, 2, 1, 2, 3, 3, 4, 5, 6])"
      ]
     },
     "execution_count": 19,
     "metadata": {},
     "output_type": "execute_result"
    }
   ],
   "source": [
    "D.ravel()"
   ]
  },
  {
   "cell_type": "code",
   "execution_count": 138,
   "id": "a73dd1c3",
   "metadata": {},
   "outputs": [],
   "source": [
    "np.random.seed(4)\n",
    "F = np.zeros((3,2))\n",
    "G = np.ones((3,2))\n",
    "H = np.eye(2)\n",
    "K1 =np.full((3,2),18)\n",
    "K = np.random.randn(3,2)\n",
    "L = np.linspace(1,20,20)\n",
    "L1 = np.arange(1,20,2)\n",
    "L2 = np.random.randint(1,15,[2,5])"
   ]
  },
  {
   "cell_type": "code",
   "execution_count": 139,
   "id": "36feaf0e",
   "metadata": {},
   "outputs": [
    {
     "data": {
      "text/plain": [
       "(array([[ 3, 13,  7, 11,  5],\n",
       "        [ 4,  1,  8,  6,  6]]),\n",
       " (2, 5))"
      ]
     },
     "execution_count": 139,
     "metadata": {},
     "output_type": "execute_result"
    }
   ],
   "source": [
    "L2  ,L2.shape"
   ]
  },
  {
   "cell_type": "code",
   "execution_count": 46,
   "id": "abe7546c",
   "metadata": {},
   "outputs": [
    {
     "data": {
      "text/plain": [
       "(array([[0., 0.],\n",
       "        [0., 0.],\n",
       "        [0., 0.]]),\n",
       " array([[1., 1.],\n",
       "        [1., 1.],\n",
       "        [1., 1.]]),\n",
       " array([[1., 0.],\n",
       "        [0., 1.]]),\n",
       " array([[18, 18],\n",
       "        [18, 18],\n",
       "        [18, 18]]),\n",
       " array([[ 0.05056171,  0.49995133],\n",
       "        [-0.99590893,  0.69359851],\n",
       "        [-0.41830152, -1.58457724]]))"
      ]
     },
     "execution_count": 46,
     "metadata": {},
     "output_type": "execute_result"
    }
   ],
   "source": [
    "F ,G , H , K1, K"
   ]
  },
  {
   "cell_type": "code",
   "execution_count": 57,
   "id": "c40e45ef",
   "metadata": {},
   "outputs": [
    {
     "data": {
      "text/plain": [
       "(array([ 1,  3,  5,  7,  9, 11, 13, 15, 17, 19]), (10,))"
      ]
     },
     "execution_count": 57,
     "metadata": {},
     "output_type": "execute_result"
    }
   ],
   "source": [
    "L1 , L1.shape"
   ]
  },
  {
   "cell_type": "code",
   "execution_count": 141,
   "id": "ba8c96f2",
   "metadata": {},
   "outputs": [
    {
     "data": {
      "text/plain": [
       "array([[0, 0, 0],\n",
       "       [1, 1, 1],\n",
       "       [2, 2, 2]], dtype=int64)"
      ]
     },
     "execution_count": 141,
     "metadata": {},
     "output_type": "execute_result"
    }
   ],
   "source": [
    "c , c.mean(axis =1) ,c.std(axis= 0) \n",
    "c ,c.cumsum(axis = 1 , dtype = np.float16) , \n",
    "c.argsort(axis = 0)\n"
   ]
  },
  {
   "cell_type": "code",
   "execution_count": null,
   "id": "03cd6239",
   "metadata": {},
   "outputs": [],
   "source": []
  }
 ],
 "metadata": {
  "kernelspec": {
   "display_name": "Python 3 (ipykernel)",
   "language": "python",
   "name": "python3"
  },
  "language_info": {
   "codemirror_mode": {
    "name": "ipython",
    "version": 3
   },
   "file_extension": ".py",
   "mimetype": "text/x-python",
   "name": "python",
   "nbconvert_exporter": "python",
   "pygments_lexer": "ipython3",
   "version": "3.9.7"
  }
 },
 "nbformat": 4,
 "nbformat_minor": 5
}
